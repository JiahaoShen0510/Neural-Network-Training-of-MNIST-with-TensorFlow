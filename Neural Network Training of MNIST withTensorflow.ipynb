{
 "cells": [
  {
   "cell_type": "code",
   "execution_count": 1,
   "metadata": {},
   "outputs": [],
   "source": [
    "import numpy as np\n",
    "import tensorflow as tf\n",
    "\n",
    "import tensorflow_datasets as tfds"
   ]
  },
  {
   "cell_type": "code",
   "execution_count": 2,
   "metadata": {},
   "outputs": [],
   "source": [
    "# import the built-in dataset"
   ]
  },
  {
   "cell_type": "code",
   "execution_count": 3,
   "metadata": {},
   "outputs": [],
   "source": [
    "mnist_data,mnist_info =tfds.load(name=\"mnist\",with_info=True,as_supervised=True)"
   ]
  },
  {
   "cell_type": "code",
   "execution_count": 4,
   "metadata": {
    "scrolled": true
   },
   "outputs": [
    {
     "data": {
      "text/plain": [
       "{'train': <PrefetchDataset shapes: ((28, 28, 1), ()), types: (tf.uint8, tf.int64)>,\n",
       " 'test': <PrefetchDataset shapes: ((28, 28, 1), ()), types: (tf.uint8, tf.int64)>}"
      ]
     },
     "execution_count": 4,
     "metadata": {},
     "output_type": "execute_result"
    }
   ],
   "source": [
    "mnist_data"
   ]
  },
  {
   "cell_type": "code",
   "execution_count": null,
   "metadata": {},
   "outputs": [],
   "source": [
    "# preprocess the MNIST dataset"
   ]
  },
  {
   "cell_type": "code",
   "execution_count": 5,
   "metadata": {},
   "outputs": [],
   "source": [
    "mnist_train,mnist_test=mnist_data[\"train\"],mnist_data[\"test\"]"
   ]
  },
  {
   "cell_type": "code",
   "execution_count": 6,
   "metadata": {},
   "outputs": [],
   "source": [
    "num_of_validation=0.1* mnist_info.splits[\"train\"].num_examples\n",
    "num_of_validation=tf.cast(num_of_validation,tf.int64)\n",
    "\n",
    "num_of_test=mnist_info.splits[\"test\"].num_examples\n",
    "num_of_test=tf.cast(num_of_test,tf.int64)"
   ]
  },
  {
   "cell_type": "code",
   "execution_count": 7,
   "metadata": {},
   "outputs": [],
   "source": [
    "def scale (image,label):\n",
    "    image=tf.cast(image,tf.float32)\n",
    "    image=image/255.\n",
    "    return image, label"
   ]
  },
  {
   "cell_type": "code",
   "execution_count": 8,
   "metadata": {},
   "outputs": [],
   "source": [
    "scale_train=mnist_train.map(scale)\n",
    "scale_test=mnist_test.map(scale)"
   ]
  },
  {
   "cell_type": "code",
   "execution_count": 9,
   "metadata": {},
   "outputs": [],
   "source": [
    "buffer_size=10000\n",
    "\n",
    "shuffle_train=scale_train.shuffle(buffer_size)\n",
    "\n",
    "validation_set=shuffle_train.take(num_of_validation)\n",
    "training_set=shuffle_train.skip(num_of_validation)"
   ]
  },
  {
   "cell_type": "code",
   "execution_count": 10,
   "metadata": {},
   "outputs": [],
   "source": [
    "batch_size=100\n",
    "\n",
    "training_set=training_set.batch(batch_size)\n",
    "validation_set=validation_set.batch(num_of_validation)\n",
    "test_set=scale_test.batch(num_of_test)\n",
    "\n",
    "validation_inputs,validation_targets=next(iter(validation_set))"
   ]
  },
  {
   "cell_type": "code",
   "execution_count": null,
   "metadata": {},
   "outputs": [],
   "source": [
    "# create the tensorflow model"
   ]
  },
  {
   "cell_type": "code",
   "execution_count": 12,
   "metadata": {},
   "outputs": [],
   "source": [
    "input_size=784\n",
    "output_size=10\n",
    "hidden_layer_size=100\n",
    "\n",
    "model=tf.keras.Sequential ([\n",
    "                             tf.keras.layers.Flatten(input_shape=(28,28,1)),\n",
    "                             tf.keras.layers.Dense(hidden_layer_size,activation=\"relu\"),\n",
    "                             tf.keras.layers.Dense(hidden_layer_size,activation=\"relu\"),\n",
    "                             tf.keras.layers.Dense(hidden_layer_size,activation=\"relu\"),\n",
    "                             tf.keras.layers.Dense(output_size,activation=\"softmax\")\n",
    "                           ])                      "
   ]
  },
  {
   "cell_type": "code",
   "execution_count": 13,
   "metadata": {},
   "outputs": [],
   "source": [
    "model.compile(optimizer=\"adam\",loss=\"sparse_categorical_crossentropy\",metrics=[\"accuracy\"])"
   ]
  },
  {
   "cell_type": "code",
   "execution_count": 14,
   "metadata": {
    "scrolled": true
   },
   "outputs": [
    {
     "name": "stdout",
     "output_type": "stream",
     "text": [
      "Epoch 1/10\n",
      "540/540 - 10s - loss: 0.3151 - accuracy: 0.9100 - val_loss: 0.1550 - val_accuracy: 0.9523\n",
      "Epoch 2/10\n",
      "540/540 - 5s - loss: 0.1258 - accuracy: 0.9620 - val_loss: 0.1061 - val_accuracy: 0.9680\n",
      "Epoch 3/10\n",
      "540/540 - 5s - loss: 0.0893 - accuracy: 0.9729 - val_loss: 0.0832 - val_accuracy: 0.9752\n",
      "Epoch 4/10\n",
      "540/540 - 6s - loss: 0.0699 - accuracy: 0.9792 - val_loss: 0.0646 - val_accuracy: 0.9810\n",
      "Epoch 5/10\n",
      "540/540 - 7s - loss: 0.0577 - accuracy: 0.9823 - val_loss: 0.0657 - val_accuracy: 0.9800\n",
      "Epoch 6/10\n",
      "540/540 - 7s - loss: 0.0450 - accuracy: 0.9859 - val_loss: 0.0498 - val_accuracy: 0.9858\n",
      "Epoch 7/10\n",
      "540/540 - 7s - loss: 0.0382 - accuracy: 0.9880 - val_loss: 0.0603 - val_accuracy: 0.9790\n",
      "Epoch 8/10\n",
      "540/540 - 7s - loss: 0.0343 - accuracy: 0.9890 - val_loss: 0.0383 - val_accuracy: 0.9875\n",
      "Epoch 9/10\n",
      "540/540 - 7s - loss: 0.0280 - accuracy: 0.9912 - val_loss: 0.0422 - val_accuracy: 0.9878\n",
      "Epoch 10/10\n",
      "540/540 - 7s - loss: 0.0257 - accuracy: 0.9915 - val_loss: 0.0317 - val_accuracy: 0.9895\n"
     ]
    },
    {
     "data": {
      "text/plain": [
       "<tensorflow.python.keras.callbacks.History at 0x2d4dc10c248>"
      ]
     },
     "execution_count": 14,
     "metadata": {},
     "output_type": "execute_result"
    }
   ],
   "source": [
    "model.fit(training_set, epochs=10, validation_data=(validation_inputs,validation_targets),verbose=2)"
   ]
  },
  {
   "cell_type": "code",
   "execution_count": null,
   "metadata": {},
   "outputs": [],
   "source": [
    "# test the model"
   ]
  },
  {
   "cell_type": "code",
   "execution_count": 18,
   "metadata": {},
   "outputs": [
    {
     "name": "stdout",
     "output_type": "stream",
     "text": [
      "1/1 [==============================] - 1s 1s/step - loss: 0.0742 - accuracy: 0.9795\n"
     ]
    }
   ],
   "source": [
    "test_loss,test_accuracy=model.evaluate(test_set)"
   ]
  },
  {
   "cell_type": "code",
   "execution_count": 29,
   "metadata": {},
   "outputs": [],
   "source": [
    "test_accuracy_percent=round(test_accuracy*100,3)"
   ]
  },
  {
   "cell_type": "code",
   "execution_count": 30,
   "metadata": {},
   "outputs": [
    {
     "name": "stdout",
     "output_type": "stream",
     "text": [
      "the accuracy rate of the model prediction on test data is 97.95%\n"
     ]
    }
   ],
   "source": [
    "print(\"the accuracy rate of the model prediction on test data is {}%\".format(test_accuracy_percent))"
   ]
  }
 ],
 "metadata": {
  "kernelspec": {
   "display_name": "Python 3",
   "language": "python",
   "name": "python3"
  },
  "language_info": {
   "codemirror_mode": {
    "name": "ipython",
    "version": 3
   },
   "file_extension": ".py",
   "mimetype": "text/x-python",
   "name": "python",
   "nbconvert_exporter": "python",
   "pygments_lexer": "ipython3",
   "version": "3.7.6"
  }
 },
 "nbformat": 4,
 "nbformat_minor": 4
}
